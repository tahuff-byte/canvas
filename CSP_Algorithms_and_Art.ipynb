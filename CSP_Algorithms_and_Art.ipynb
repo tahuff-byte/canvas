{
  "nbformat": 4,
  "nbformat_minor": 0,
  "metadata": {
    "colab": {
      "name": "CSP Algorithms and Art.ipynb",
      "provenance": [],
      "include_colab_link": true
    },
    "kernelspec": {
      "name": "python3",
      "display_name": "Python 3"
    }
  },
  "cells": [
    {
      "cell_type": "markdown",
      "metadata": {
        "id": "view-in-github",
        "colab_type": "text"
      },
      "source": [
        "<a href=\"https://colab.research.google.com/github/tahuff-byte/canvas/blob/main/CSP_Algorithms_and_Art.ipynb\" target=\"_parent\"><img src=\"https://colab.research.google.com/assets/colab-badge.svg\" alt=\"Open In Colab\"/></a>"
      ]
    },
    {
      "cell_type": "markdown",
      "metadata": {
        "id": "bof5UYknmom3"
      },
      "source": [
        "# Vocabulary"
      ]
    },
    {
      "cell_type": "markdown",
      "metadata": {
        "id": "W89w7Ew5nJoV"
      },
      "source": [
        "Define the following terms\n",
        "\n",
        "1. Algorithm\n",
        "2. Development process\n",
        "3. Project Requirements\n",
        "4. Incremental Development\n",
        "5. Problem Decomposition\n",
        "6. Milestones\n",
        "7. Design feasibility\n",
        "8. Prototype\n",
        "9. Program Documentation\n",
        "\n",
        "\n"
      ]
    },
    {
      "cell_type": "markdown",
      "metadata": {
        "id": "3eYFkyFHp0MD"
      },
      "source": [
        "# Program Requirements"
      ]
    },
    {
      "cell_type": "markdown",
      "metadata": {
        "id": "waa2Lls8p8At"
      },
      "source": [
        "**Requirements**\n",
        "Your artistic artifact should represent the algorithmic thinking and computational skills you have learned thus far.\n",
        "\n",
        "**Basic** **functionality**:\n",
        " Create a variety of shapes to produce a unique, artistic artifact.\n",
        " Use color and size variations to enhance your artwork.\n",
        " Use movement to enhance your artifact.\n",
        " Use iteration (looping) and conditional execution (if statements) to control the drawing.\n",
        "To help you in creating your artwork:\n",
        "\n",
        " Use existing turtle methods.\n",
        " Choose descriptive variable names.\n",
        " Comment code segments or blocks of statements."
      ]
    },
    {
      "cell_type": "markdown",
      "metadata": {
        "id": "AEU_TRbmmrTd"
      },
      "source": [
        "# Investigate an Idea"
      ]
    },
    {
      "cell_type": "markdown",
      "metadata": {
        "id": "tQ3hH9w4n4aF"
      },
      "source": [
        "What would you like your program to do?\n"
      ]
    },
    {
      "cell_type": "markdown",
      "metadata": {
        "id": "YDE5MS-h6P8x"
      },
      "source": [
        "make a series of triangels to form a bigger shape "
      ]
    },
    {
      "cell_type": "markdown",
      "metadata": {
        "id": "4px0iNh4pYuF"
      },
      "source": [
        "Brainstorm some ideas! Set a timer for 60 seconds and list all the ideas of what you could make. Add your list to the notebook!"
      ]
    },
    {
      "cell_type": "markdown",
      "metadata": {
        "id": "fc3Rtn2kqTnO"
      },
      "source": [
        "Sketch some images of what you think the project will look like when finished. Be sure to add your sketches into the notebook here!"
      ]
    },
    {
      "cell_type": "markdown",
      "metadata": {
        "id": "nF42fRCum0Ux"
      },
      "source": [
        "# Design"
      ]
    },
    {
      "cell_type": "markdown",
      "metadata": {
        "id": "eojCvgkooVfE"
      },
      "source": [
        "Answer these quesitons!:\n",
        "1. What is the output of your program? What is its input?\n",
        "*   Think in terms of what data type(s) will you need to start with and end with?\n",
        "2. What things need to be done by your program to accomplish its goal? LIST EACH STEP/STAGE!\n",
        "*  What needs to be done to your data? Will you need a loop to repeat an action? Will you need if/else statements to guide decision making?\n",
        "3. What variables would you need? How would you need to name them to avoid confusion?"
      ]
    },
    {
      "cell_type": "markdown",
      "metadata": {
        "id": "57d0kZramwjn"
      },
      "source": [
        "# Plan"
      ]
    },
    {
      "cell_type": "markdown",
      "metadata": {
        "id": "tWSQ7gIHrBGh"
      },
      "source": [
        "What milestones do you wnat to set for yourselves? When should each component be ready?"
      ]
    },
    {
      "cell_type": "markdown",
      "metadata": {
        "id": "Lwb5vuJmrjif"
      },
      "source": [
        "Who is responsible for what part at what time?"
      ]
    },
    {
      "cell_type": "markdown",
      "metadata": {
        "id": "C5yt49GmnlO1"
      },
      "source": [
        "# Final Code"
      ]
    },
    {
      "cell_type": "code",
      "metadata": {
        "id": "omtI23zynn5O",
        "colab": {
          "base_uri": "https://localhost:8080/",
          "height": 408
        },
        "outputId": "91ef7ddb-f012-4b21-d9f6-c3e54f643973"
      },
      "source": [
        "#Imports the turtle library \r\n",
        "import turtle as trtl\r\n",
        "\r\n",
        "#the turtle module pop up window\r\n",
        "wn = trtl.Screen()\r\n",
        "\r\n",
        "#ask to pick 2 colors\r\n",
        "print(\"pick 2 colors\")\r\n",
        "\r\n",
        "#int vars so the program can gather user input\r\n",
        "color_1 = input(\"What color would you like: \")\r\n",
        "color_2 = input(\"on now Pick one more color: \")\r\n",
        "\r\n",
        "#putting the color cars in the .color method paramaters\r\n",
        "trtl.color(color_1,color_2)\r\n",
        "\r\n",
        "#a for loop that draws the shape then shades it in based on what color you gave it\r\n",
        "trtl.begin_fill()\r\n",
        "for i in range(75):\r\n",
        "    trtl.speed(30)\r\n",
        "    trtl.forward(300)\r\n",
        "    trtl.left(170)\r\n",
        "trtl.end_fill()\r\n",
        "\r\n",
        "wn.mainloop()"
      ],
      "execution_count": 1,
      "outputs": [
        {
          "output_type": "error",
          "ename": "TclError",
          "evalue": "ignored",
          "traceback": [
            "\u001b[0;31m---------------------------------------------------------------------------\u001b[0m",
            "\u001b[0;31mTclError\u001b[0m                                  Traceback (most recent call last)",
            "\u001b[0;32m<ipython-input-1-ac3e07968414>\u001b[0m in \u001b[0;36m<module>\u001b[0;34m()\u001b[0m\n\u001b[1;32m      3\u001b[0m \u001b[0;34m\u001b[0m\u001b[0m\n\u001b[1;32m      4\u001b[0m \u001b[0;31m#the turtle module pop up window\u001b[0m\u001b[0;34m\u001b[0m\u001b[0;34m\u001b[0m\u001b[0;34m\u001b[0m\u001b[0m\n\u001b[0;32m----> 5\u001b[0;31m \u001b[0mwn\u001b[0m \u001b[0;34m=\u001b[0m \u001b[0mtrtl\u001b[0m\u001b[0;34m.\u001b[0m\u001b[0mScreen\u001b[0m\u001b[0;34m(\u001b[0m\u001b[0;34m)\u001b[0m\u001b[0;34m\u001b[0m\u001b[0;34m\u001b[0m\u001b[0m\n\u001b[0m\u001b[1;32m      6\u001b[0m \u001b[0;34m\u001b[0m\u001b[0m\n\u001b[1;32m      7\u001b[0m \u001b[0;31m#ask to pick 2 colors\u001b[0m\u001b[0;34m\u001b[0m\u001b[0;34m\u001b[0m\u001b[0;34m\u001b[0m\u001b[0m\n",
            "\u001b[0;32m/usr/lib/python3.6/turtle.py\u001b[0m in \u001b[0;36mScreen\u001b[0;34m()\u001b[0m\n\u001b[1;32m   3660\u001b[0m     else return the existing one.\"\"\"\n\u001b[1;32m   3661\u001b[0m     \u001b[0;32mif\u001b[0m \u001b[0mTurtle\u001b[0m\u001b[0;34m.\u001b[0m\u001b[0m_screen\u001b[0m \u001b[0;32mis\u001b[0m \u001b[0;32mNone\u001b[0m\u001b[0;34m:\u001b[0m\u001b[0;34m\u001b[0m\u001b[0;34m\u001b[0m\u001b[0m\n\u001b[0;32m-> 3662\u001b[0;31m         \u001b[0mTurtle\u001b[0m\u001b[0;34m.\u001b[0m\u001b[0m_screen\u001b[0m \u001b[0;34m=\u001b[0m \u001b[0m_Screen\u001b[0m\u001b[0;34m(\u001b[0m\u001b[0;34m)\u001b[0m\u001b[0;34m\u001b[0m\u001b[0;34m\u001b[0m\u001b[0m\n\u001b[0m\u001b[1;32m   3663\u001b[0m     \u001b[0;32mreturn\u001b[0m \u001b[0mTurtle\u001b[0m\u001b[0;34m.\u001b[0m\u001b[0m_screen\u001b[0m\u001b[0;34m\u001b[0m\u001b[0;34m\u001b[0m\u001b[0m\n\u001b[1;32m   3664\u001b[0m \u001b[0;34m\u001b[0m\u001b[0m\n",
            "\u001b[0;32m/usr/lib/python3.6/turtle.py\u001b[0m in \u001b[0;36m__init__\u001b[0;34m(self)\u001b[0m\n\u001b[1;32m   3676\u001b[0m         \u001b[0;31m# preserved (perhaps by passing it as an optional parameter)\u001b[0m\u001b[0;34m\u001b[0m\u001b[0;34m\u001b[0m\u001b[0;34m\u001b[0m\u001b[0m\n\u001b[1;32m   3677\u001b[0m         \u001b[0;32mif\u001b[0m \u001b[0m_Screen\u001b[0m\u001b[0;34m.\u001b[0m\u001b[0m_root\u001b[0m \u001b[0;32mis\u001b[0m \u001b[0;32mNone\u001b[0m\u001b[0;34m:\u001b[0m\u001b[0;34m\u001b[0m\u001b[0;34m\u001b[0m\u001b[0m\n\u001b[0;32m-> 3678\u001b[0;31m             \u001b[0m_Screen\u001b[0m\u001b[0;34m.\u001b[0m\u001b[0m_root\u001b[0m \u001b[0;34m=\u001b[0m \u001b[0mself\u001b[0m\u001b[0;34m.\u001b[0m\u001b[0m_root\u001b[0m \u001b[0;34m=\u001b[0m \u001b[0m_Root\u001b[0m\u001b[0;34m(\u001b[0m\u001b[0;34m)\u001b[0m\u001b[0;34m\u001b[0m\u001b[0;34m\u001b[0m\u001b[0m\n\u001b[0m\u001b[1;32m   3679\u001b[0m             \u001b[0mself\u001b[0m\u001b[0;34m.\u001b[0m\u001b[0m_root\u001b[0m\u001b[0;34m.\u001b[0m\u001b[0mtitle\u001b[0m\u001b[0;34m(\u001b[0m\u001b[0m_Screen\u001b[0m\u001b[0;34m.\u001b[0m\u001b[0m_title\u001b[0m\u001b[0;34m)\u001b[0m\u001b[0;34m\u001b[0m\u001b[0;34m\u001b[0m\u001b[0m\n\u001b[1;32m   3680\u001b[0m             \u001b[0mself\u001b[0m\u001b[0;34m.\u001b[0m\u001b[0m_root\u001b[0m\u001b[0;34m.\u001b[0m\u001b[0mondestroy\u001b[0m\u001b[0;34m(\u001b[0m\u001b[0mself\u001b[0m\u001b[0;34m.\u001b[0m\u001b[0m_destroy\u001b[0m\u001b[0;34m)\u001b[0m\u001b[0;34m\u001b[0m\u001b[0;34m\u001b[0m\u001b[0m\n",
            "\u001b[0;32m/usr/lib/python3.6/turtle.py\u001b[0m in \u001b[0;36m__init__\u001b[0;34m(self)\u001b[0m\n\u001b[1;32m    432\u001b[0m     \u001b[0;34m\"\"\"Root class for Screen based on Tkinter.\"\"\"\u001b[0m\u001b[0;34m\u001b[0m\u001b[0;34m\u001b[0m\u001b[0m\n\u001b[1;32m    433\u001b[0m     \u001b[0;32mdef\u001b[0m \u001b[0m__init__\u001b[0m\u001b[0;34m(\u001b[0m\u001b[0mself\u001b[0m\u001b[0;34m)\u001b[0m\u001b[0;34m:\u001b[0m\u001b[0;34m\u001b[0m\u001b[0;34m\u001b[0m\u001b[0m\n\u001b[0;32m--> 434\u001b[0;31m         \u001b[0mTK\u001b[0m\u001b[0;34m.\u001b[0m\u001b[0mTk\u001b[0m\u001b[0;34m.\u001b[0m\u001b[0m__init__\u001b[0m\u001b[0;34m(\u001b[0m\u001b[0mself\u001b[0m\u001b[0;34m)\u001b[0m\u001b[0;34m\u001b[0m\u001b[0;34m\u001b[0m\u001b[0m\n\u001b[0m\u001b[1;32m    435\u001b[0m \u001b[0;34m\u001b[0m\u001b[0m\n\u001b[1;32m    436\u001b[0m     \u001b[0;32mdef\u001b[0m \u001b[0msetupcanvas\u001b[0m\u001b[0;34m(\u001b[0m\u001b[0mself\u001b[0m\u001b[0;34m,\u001b[0m \u001b[0mwidth\u001b[0m\u001b[0;34m,\u001b[0m \u001b[0mheight\u001b[0m\u001b[0;34m,\u001b[0m \u001b[0mcwidth\u001b[0m\u001b[0;34m,\u001b[0m \u001b[0mcheight\u001b[0m\u001b[0;34m)\u001b[0m\u001b[0;34m:\u001b[0m\u001b[0;34m\u001b[0m\u001b[0;34m\u001b[0m\u001b[0m\n",
            "\u001b[0;32m/usr/lib/python3.6/tkinter/__init__.py\u001b[0m in \u001b[0;36m__init__\u001b[0;34m(self, screenName, baseName, className, useTk, sync, use)\u001b[0m\n\u001b[1;32m   2021\u001b[0m                 \u001b[0mbaseName\u001b[0m \u001b[0;34m=\u001b[0m \u001b[0mbaseName\u001b[0m \u001b[0;34m+\u001b[0m \u001b[0mext\u001b[0m\u001b[0;34m\u001b[0m\u001b[0;34m\u001b[0m\u001b[0m\n\u001b[1;32m   2022\u001b[0m         \u001b[0minteractive\u001b[0m \u001b[0;34m=\u001b[0m \u001b[0;36m0\u001b[0m\u001b[0;34m\u001b[0m\u001b[0;34m\u001b[0m\u001b[0m\n\u001b[0;32m-> 2023\u001b[0;31m         \u001b[0mself\u001b[0m\u001b[0;34m.\u001b[0m\u001b[0mtk\u001b[0m \u001b[0;34m=\u001b[0m \u001b[0m_tkinter\u001b[0m\u001b[0;34m.\u001b[0m\u001b[0mcreate\u001b[0m\u001b[0;34m(\u001b[0m\u001b[0mscreenName\u001b[0m\u001b[0;34m,\u001b[0m \u001b[0mbaseName\u001b[0m\u001b[0;34m,\u001b[0m \u001b[0mclassName\u001b[0m\u001b[0;34m,\u001b[0m \u001b[0minteractive\u001b[0m\u001b[0;34m,\u001b[0m \u001b[0mwantobjects\u001b[0m\u001b[0;34m,\u001b[0m \u001b[0museTk\u001b[0m\u001b[0;34m,\u001b[0m \u001b[0msync\u001b[0m\u001b[0;34m,\u001b[0m \u001b[0muse\u001b[0m\u001b[0;34m)\u001b[0m\u001b[0;34m\u001b[0m\u001b[0;34m\u001b[0m\u001b[0m\n\u001b[0m\u001b[1;32m   2024\u001b[0m         \u001b[0;32mif\u001b[0m \u001b[0museTk\u001b[0m\u001b[0;34m:\u001b[0m\u001b[0;34m\u001b[0m\u001b[0;34m\u001b[0m\u001b[0m\n\u001b[1;32m   2025\u001b[0m             \u001b[0mself\u001b[0m\u001b[0;34m.\u001b[0m\u001b[0m_loadtk\u001b[0m\u001b[0;34m(\u001b[0m\u001b[0;34m)\u001b[0m\u001b[0;34m\u001b[0m\u001b[0;34m\u001b[0m\u001b[0m\n",
            "\u001b[0;31mTclError\u001b[0m: no display name and no $DISPLAY environment variable"
          ]
        }
      ]
    }
  ]
}